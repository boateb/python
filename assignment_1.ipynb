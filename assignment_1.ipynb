{
 "cells": [
  {
   "cell_type": "code",
   "execution_count": 1,
   "metadata": {},
   "outputs": [
    {
     "name": "stdout",
     "output_type": "stream",
     "text": [
      "True\n",
      "False\n",
      "True\n",
      "True\n",
      "False\n",
      "True\n"
     ]
    }
   ],
   "source": [
    "# Part 1: Basic Anagram Checker\n",
    "def anagram_checker(word_a, word_b):\n",
    "    # Convert both words to lowercase to make the check case-insensitive\n",
    "    word_a = word_a.lower()\n",
    "    word_b = word_b.lower()\n",
    "    \n",
    "    # Check if the sorted characters of both words match\n",
    "    return sorted(word_a) == sorted(word_b)\n",
    "\n",
    "# Testing Part 1\n",
    "print(anagram_checker(\"Silent\", \"listen\"))  # True\n",
    "print(anagram_checker(\"Silent\", \"Night\"))   # False\n",
    "print(anagram_checker(\"night\", \"Thing\"))    # True\n",
    "\n",
    "# Part 2: Expanding the functionality of the Anagram Checker with case sensitivity\n",
    "def anagram_checker(word_a, word_b, is_case_sensitive):\n",
    "    # Check if case sensitivity is turned off, and if so, convert to lowercase\n",
    "    if not is_case_sensitive:\n",
    "        word_a = word_a.lower()\n",
    "        word_b = word_b.lower()\n",
    "    \n",
    "    # Check if the sorted characters of both words match\n",
    "    return sorted(word_a) == sorted(word_b)\n",
    "\n",
    "# Testing Part 2\n",
    "print(anagram_checker(\"Silent\", \"listen\", False))  # True\n",
    "print(anagram_checker(\"Silent\", \"Listen\", True))   # False\n",
    "print(anagram_checker(\"Night\", \"Thing\", False))    # True\n"
   ]
  }
 ],
 "metadata": {
  "kernelspec": {
   "display_name": "base",
   "language": "python",
   "name": "python3"
  },
  "language_info": {
   "codemirror_mode": {
    "name": "ipython",
    "version": 3
   },
   "file_extension": ".py",
   "mimetype": "text/x-python",
   "name": "python",
   "nbconvert_exporter": "python",
   "pygments_lexer": "ipython3",
   "version": "3.12.3"
  }
 },
 "nbformat": 4,
 "nbformat_minor": 2
}
